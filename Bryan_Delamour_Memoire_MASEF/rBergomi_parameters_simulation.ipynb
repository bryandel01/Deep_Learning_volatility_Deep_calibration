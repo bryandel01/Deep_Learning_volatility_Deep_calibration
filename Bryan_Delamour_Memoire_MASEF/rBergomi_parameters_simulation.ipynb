{
 "cells": [
  {
   "cell_type": "markdown",
   "metadata": {},
   "source": [
    "<img src=\"Dau.png\">"
   ]
  },
  {
   "cell_type": "markdown",
   "metadata": {},
   "source": [
    "#### MASEF, University Paris-Dauphine 2021:   Bryan Delamour "
   ]
  },
  {
   "cell_type": "markdown",
   "metadata": {},
   "source": [
    "## Rough Bergomi parameters simulation"
   ]
  },
  {
   "cell_type": "code",
   "execution_count": 1,
   "metadata": {},
   "outputs": [],
   "source": [
    "import numpy as np\n",
    "import pickle"
   ]
  },
  {
   "cell_type": "markdown",
   "metadata": {},
   "source": [
    "### Rough Bergomi parameters"
   ]
  },
  {
   "cell_type": "markdown",
   "metadata": {},
   "source": [
    "$\n",
    "\\begin{array}{l}\n",
    "\\text { Training set of size } 34.000 \\text { and testing set of size } 6.000\\\\\n",
    "\\text { Rough Bergomi sample: }\\left(\\xi_{0}, \\nu, \\rho, H\\right) \\in \\mathcal{U}[0.01,0.16] \\times \\mathcal{U}[0.5,4.0] \\times \\mathcal{U}[-0.95,-0.1] \\times \\mathcal{U}[0.025,0.5]\\\\\n",
    "\\text { Strikes: }\\{0.5,0.6,0.7,0.8,0.9,1,1.1,1.2,1.3,1.4,1.5\\}\\\\\n",
    "\\text { Maturities: }\\{0.1,0.3,0.6,0.9,1.2,1.5,1.8,2.0\\}\n",
    "\\end{array}\n",
    "$"
   ]
  },
  {
   "cell_type": "code",
   "execution_count": 2,
   "metadata": {},
   "outputs": [],
   "source": [
    "nb_samples = 4*10**4\n",
    "strikes = np.arange(0.5,1.6,0.1)\n",
    "maturities = np.array([0.1,0.3,0.6,0.9,1.2,1.5,1.8,2])\n",
    "S0=1"
   ]
  },
  {
   "cell_type": "code",
   "execution_count": 3,
   "metadata": {},
   "outputs": [],
   "source": [
    "## Rough Bergomi Samples\n",
    "XI = np.random.uniform(0.01,0.16,nb_samples)\n",
    "NU = np.random.uniform(0.5,4,nb_samples)\n",
    "RHO = np.random.uniform(-0.95,-0.1,nb_samples)\n",
    "H = np.random.uniform(0.025,0.5,nb_samples)\n",
    "\n",
    "model_parameters = np.c_[XI,NU,RHO,H]"
   ]
  },
  {
   "cell_type": "markdown",
   "metadata": {},
   "source": [
    "## Saving rBergomi parameters samples"
   ]
  },
  {
   "cell_type": "code",
   "execution_count": 4,
   "metadata": {},
   "outputs": [],
   "source": [
    "#Save training data \n",
    "\n",
    "model_parameters_training_File = \"model_parameters_training_data.pkl\"  \n",
    "    \n",
    "with open(model_parameters_training_File, 'wb') as file:  \n",
    "    pickle.dump(model_parameters, file)"
   ]
  }
 ],
 "metadata": {
  "kernelspec": {
   "display_name": "Python 3",
   "language": "python",
   "name": "python3"
  },
  "language_info": {
   "codemirror_mode": {
    "name": "ipython",
    "version": 3
   },
   "file_extension": ".py",
   "mimetype": "text/x-python",
   "name": "python",
   "nbconvert_exporter": "python",
   "pygments_lexer": "ipython3",
   "version": "3.8.3"
  }
 },
 "nbformat": 4,
 "nbformat_minor": 4
}
