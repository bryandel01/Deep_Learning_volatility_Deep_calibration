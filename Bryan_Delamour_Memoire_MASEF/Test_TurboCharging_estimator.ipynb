{
 "cells": [
  {
   "cell_type": "markdown",
   "metadata": {},
   "source": [
    "<img src=\"Dau.png\">"
   ]
  },
  {
   "cell_type": "markdown",
   "metadata": {},
   "source": [
    "#### MASEF, University Paris-Dauphine 2021:   Bryan Delamour "
   ]
  },
  {
   "cell_type": "markdown",
   "metadata": {},
   "source": [
    "## Turbo Charging Monte Carlo"
   ]
  },
  {
   "cell_type": "markdown",
   "metadata": {},
   "source": [
    "#### Ref: Turbocharging Monte Carlo pricing for the rough Bergomi model\n",
    "Ryan McCrickerd, Mikko S. Pakkanen"
   ]
  },
  {
   "cell_type": "code",
   "execution_count": 2,
   "metadata": {},
   "outputs": [],
   "source": [
    "import numpy as np\n",
    "from cmath import * \n",
    "import pickle\n",
    "import scipy.stats as sps\n",
    "from ipynb.fs.full.HybridScheme import *\n",
    "import matplotlib.pyplot as plt\n",
    "import py_vollib\n",
    "from py_vollib.ref_python.black_scholes.implied_volatility import implied_volatility "
   ]
  },
  {
   "cell_type": "markdown",
   "metadata": {},
   "source": [
    "We consider the orthogonal separation of the rBergomi price process $S_{t}$ into $S_{t}^{1}$ and $S_{t}^{2}$, where\n"
   ]
  },
  {
   "cell_type": "markdown",
   "metadata": {},
   "source": [
    "$$\n",
    "S_{t}^{1}:=\\mathcal{E}\\left(\\rho \\int_{0}^{1} \\sqrt{V_{u}} \\mathrm{~d} W_{u}^{1}\\right)_{t}, \\quad S_{t}^{2}:=\\mathcal{E}\\left(\\sqrt{1-\\rho^{2}} \\int_{0}^{1} \\sqrt{V_{u}} \\mathrm{~d} W_{u}^{2}\\right)_{t}\n",
    "$$"
   ]
  },
  {
   "cell_type": "markdown",
   "metadata": {},
   "source": [
    "### Mixed estimator"
   ]
  },
  {
   "cell_type": "markdown",
   "metadata": {},
   "source": [
    "#### Control variate"
   ]
  },
  {
   "cell_type": "markdown",
   "metadata": {},
   "source": [
    "This separation facilitates our Mixed estimator, which we define using\n",
    "$$\n",
    "X=B S\\left(\\left(1-\\rho^{2}\\right) \\int_{0}^{t} V_{u} \\mathrm{~d} u ; S_{t}^{1}, k\\right), \\quad Y=B S\\left(\\rho^{2}\\left(\\hat{Q}_{n}-\\int_{0}^{t} V_{u} \\mathrm{~d} u\\right) ; S_{t}^{1}, k\\right)\n",
    "$$"
   ]
  },
  {
   "cell_type": "markdown",
   "metadata": {},
   "source": [
    "to consider price estimators $\\hat{P}_{n}(k, t)$ of the following form under the rBergomi model\n",
    "$$\n",
    "\\hat{P}_{n}(k, t):=\\frac{1}{n} \\sum_{i=1}^{n}\\left(X_{i}+\\hat{\\alpha}_{n} Y_{i}\\right)-\\hat{\\alpha}_{n} \\mathbb{E}[Y], \\quad \\hat{\\sigma}_{B S}^{n}(k, t)^{2} t=B S^{-1}\\left(\\hat{P}_{n}(k, t) ; 1, k\\right)\n",
    "$$"
   ]
  },
  {
   "cell_type": "markdown",
   "metadata": {},
   "source": [
    "We compute $\\hat{\\alpha}_{n}$ and $\\hat{Q}_{n}$ post-simulation from sampled $X_{i}, Y_{i}$ and $\\left(\\int_{0}^{t} V_{u} \\mathrm{~d} u\\right)$, using"
   ]
  },
  {
   "cell_type": "markdown",
   "metadata": {},
   "source": [
    "\n",
    "$$\n",
    "\\hat{\\alpha}_{n}:=-\\frac{\\sum_{i=1}^{n}\\left(X_{i}-\\bar{X}_{n}\\right)\\left(Y_{i}-\\bar{Y}_{n}\\right)}{\\sum_{i=1}^{n}\\left(Y_{i}-\\bar{Y}_{n}\\right)^{2}}, \\quad \\hat{Q}_{n}:=\\sup \\left\\{\\left(\\int_{0}^{t} V_{u} \\mathrm{~d} u\\right)_{i}: i=1, \\ldots, n\\right\\}\n",
    "$$"
   ]
  },
  {
   "cell_type": "markdown",
   "metadata": {},
   "source": [
    "#### Antithetic sampling"
   ]
  },
  {
   "cell_type": "markdown",
   "metadata": {},
   "source": [
    "We draw a path of $W^{1}$ over the interval $[0, t]$, and appeal to the symmetry in distribution of $S_{t}^{1, \\pm}$, defined by\n",
    "\n",
    "\\begin{aligned}\n",
    "S_{t}^{1, \\pm} &=\\mathcal{E}\\left\\{\\pm \\rho \\int_{0}^{t} \\sqrt{V_{u}^{\\pm}} \\mathrm{d} W_{u}^{1}\\right\\}, \\quad V_{t}^{\\pm}=\\xi_{0}(t) \\exp \\left(-\\frac{\\eta^{2}}{2} t^{2 \\alpha+1}\\right)\\left(V_{t}^{\\circ}\\right)^{\\pm 1} \\\\\n",
    "V_{t}^{\\circ} &=\\exp \\left(\\eta W_{t}^{\\alpha}\\right)\n",
    "\\end{aligned}\n"
   ]
  },
  {
   "cell_type": "code",
   "execution_count": 2,
   "metadata": {},
   "outputs": [],
   "source": [
    "def BS_price(S,K,V):\n",
    "    d1 = ( np.log(S)-np.log(K) + 0.5*V )*(1/np.sqrt(V))\n",
    "    d2 = d1 - np.sqrt(V)\n",
    "    p = S*sps.norm.cdf(d1) - K*sps.norm.cdf(d2)\n",
    "    return(p)\n",
    "\n",
    "def jackel_iv(P,S0,K,T):\n",
    "    return (implied_volatility(P, S0, K, T, 0, 'c'))"
   ]
  },
  {
   "cell_type": "code",
   "execution_count": 3,
   "metadata": {},
   "outputs": [
    {
     "data": {
      "text/plain": [
       "array([0.83635677, 1.        , 1.10971142])"
      ]
     },
     "execution_count": 3,
     "metadata": {},
     "output_type": "execute_result"
    }
   ],
   "source": [
    "# Know implied vols \n",
    "K = np.exp( np.array([-0.1787,0.0000,0.1041]) )\n",
    "iv = np.array([0.2961,0.2061,0.1576])"
   ]
  },
  {
   "cell_type": "markdown",
   "metadata": {},
   "source": [
    "#### Ref: https://github.com/ryanmccrickerd/rough_bergomi/blob/master/notebooks/turbocharged.ipynb"
   ]
  },
  {
   "cell_type": "code",
   "execution_count": 4,
   "metadata": {},
   "outputs": [],
   "source": [
    "#parameters\n",
    "\n",
    "disc = 312*4\n",
    "paths_ = 100 \n",
    "T = 0.25\n",
    "a = -0.43\n",
    "rho = -0.9\n",
    "S0 = 1 \n",
    "prices_mixed = np.zeros(len(K))\n",
    "prices_base = np.zeros(len(K))\n",
    "iv_pred_mixed = np.zeros(len(K))\n",
    "iv_pred_base = np.zeros(len(K))\n",
    "iv_jack_base = np.zeros(len(K))\n",
    "iv_jack_mixed = np.zeros(len(K))\n",
    "rB = rBergomi_h(paths = paths_ , N = disc, T = 0.25, H = a + 0.5)\n",
    "    \n",
    "#Anthitetic sampling \n",
    "dW_ = rB.dW()\n",
    "dW = np.r_[dW_, -dW_]\n",
    "    \n",
    "W_h = rB.W_h(dW)\n",
    "V = rB.V(0.235**2, 1.9, W_h)\n",
    "S = rB.S(S0, -0.9, dW, V)\n",
    "S1 = rB.S1(S0, -0.9, dW, V)\n",
    "\n",
    "QV = np.cumsum(V, axis = 1)* (1/disc)\n",
    "QVT = QV[:, -1]\n",
    "\n",
    "Q = np.max(QVT, axis=0) + 1e-9\n",
    "\n",
    "ST = S[:, -1]\n",
    "VT = V[:, -1]\n",
    "\n",
    "S1T = S1[:,-1]\n",
    "\n",
    "mat = np.zeros( (paths_, len(K)) )\n",
    "c = np.zeros( len (K))\n",
    "    \n",
    "for k in range(len(K)): #Mixed Estimator  \n",
    "    X = BS_price(S1T, K[k], (1 - rho**2) * QVT)\n",
    "    Y = BS_price(S1T, K[k], rho**2 * (Q - QVT))\n",
    "    eY = BS_price(1., K[k], rho**2 * Q)\n",
    "    cov_mat = np.cov(X, Y)\n",
    "    c = - cov_mat[0,1] / cov_mat[1,1]\n",
    "\n",
    "    mat= X + c * (Y - eY) # Control variate\n",
    "\n",
    "    prices_mixed[k] = np.mean(mat,axis=0)\n",
    "    prices_base[k] = np.mean(np.maximum(ST-K[k],0))\n",
    "    iv_jack_mixed[k] = jackel_iv(prices_mixed[k],1,K[k],0.25)\n",
    "    iv_jack_base[k] = jackel_iv(prices_base[k],1,K[k],0.25)"
   ]
  },
  {
   "cell_type": "markdown",
   "metadata": {},
   "source": [
    "### Base estimator vs mixed estimator"
   ]
  },
  {
   "cell_type": "markdown",
   "metadata": {},
   "source": [
    "#### Using implied volatility solver by Jäckel (2015) "
   ]
  },
  {
   "cell_type": "markdown",
   "metadata": {},
   "source": [
    "We can see on the plot below that the mixed estimator (red) allows a more precise estimation of implied volatilities than the base estimator (blue). In green the true implied volatility."
   ]
  },
  {
   "cell_type": "code",
   "execution_count": 5,
   "metadata": {},
   "outputs": [
    {
     "data": {
      "text/plain": [
       "[<matplotlib.lines.Line2D at 0x7f911aa9f7f0>]"
      ]
     },
     "execution_count": 5,
     "metadata": {},
     "output_type": "execute_result"
    },
    {
     "data": {
      "image/png": "[encoded data removed]",
      "text/plain": [
       "<Figure size 432x288 with 1 Axes>"
      ]
     },
     "metadata": {
      "needs_background": "light"
     },
     "output_type": "display_data"
    }
   ],
   "source": [
    "plt.plot(K,iv, 'o')\n",
    "plt.plot(K,iv_jack_mixed,'x',color='red')\n",
    "plt.plot(K,iv_jack_base, 'x', color ='blue')"
   ]
  }
 ],
 "metadata": {
  "kernelspec": {
   "display_name": "Python 3",
   "language": "python",
   "name": "python3"
  },
  "language_info": {
   "codemirror_mode": {
    "name": "ipython",
    "version": 3
   },
   "file_extension": ".py",
   "mimetype": "text/x-python",
   "name": "python",
   "nbconvert_exporter": "python",
   "pygments_lexer": "ipython3",
   "version": "3.8.3"
  }
 },
 "nbformat": 4,
 "nbformat_minor": 4
}
