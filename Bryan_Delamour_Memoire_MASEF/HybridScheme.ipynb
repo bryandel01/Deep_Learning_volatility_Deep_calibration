{
 "cells": [
  {
   "cell_type": "markdown",
   "metadata": {},
   "source": [
    "<img src=\"Dau.png\">"
   ]
  },
  {
   "cell_type": "markdown",
   "metadata": {},
   "source": [
    "#### MASEF, University Paris-Dauphine 2021:   Bryan Delamour "
   ]
  },
  {
   "cell_type": "markdown",
   "metadata": {},
   "source": [
    "## Hybrid scheme for the rough Bergomi model"
   ]
  },
  {
   "cell_type": "markdown",
   "metadata": {},
   "source": [
    "#### Ref: Hybrid scheme for Brownian semistationary processes\n",
    "Mikkel Bennedsen, Asger Lunde, Mikko S. Pakkanen"
   ]
  },
  {
   "cell_type": "code",
   "execution_count": 9,
   "metadata": {},
   "outputs": [],
   "source": [
    "import numpy as np \n",
    "import scipy.special as sp\n",
    "import scipy.stats as sps"
   ]
  },
  {
   "cell_type": "markdown",
   "metadata": {},
   "source": [
    "## Rough Bergomi Model"
   ]
  },
  {
   "cell_type": "markdown",
   "metadata": {},
   "source": [
    "$$\n",
    "S_{t}:=S_{0} \\exp ( \\underbrace{\\int_{0}^{t} \\sqrt{v_{s}} \\mathrm{~d} Z_{s}-\\frac{1}{2} \\int_{0}^{t} v_{s} \\mathrm{~d} s}_{=: X_{t}}), \\quad t \\in[0, T]\n",
    "$$\n",
    "\n",
    "$$\n",
    "v_{t}:=\\xi_{t}^{0} \\exp (\\eta \\underbrace{\\sqrt{2 \\alpha+1} \\int_{0}^{t}(t-s)^{\\alpha} \\mathrm{d} W_{s}}_{=: Y_{t}}-\\frac{\\eta^{2}}{2} t^{2 \\alpha+1}), \\quad t \\in[0, T]\n",
    "$$"
   ]
  },
  {
   "cell_type": "markdown",
   "metadata": {},
   "source": [
    "$$ \\mathrm{~d}Z_s = \\rho \\mathrm{~d}W_s + \\sqrt{1 - \\rho^2} \\mathrm{~d}B_s$$ "
   ]
  },
  {
   "cell_type": "markdown",
   "metadata": {},
   "source": [
    "### Euler Scheme on $X_t$"
   ]
  },
  {
   "cell_type": "markdown",
   "metadata": {},
   "source": [
    "$$\n",
    "{X}_{t_{i+1}}={X}_{t_{i}}- \\frac{v_{t_i}}{2} \\Delta t+\\sqrt{{v}_{t_{i}}} \\Delta Z_{i}\n",
    "$$"
   ]
  },
  {
   "cell_type": "markdown",
   "metadata": {},
   "source": [
    "### Hybrid Scheme for $Y_t$"
   ]
  },
  {
   "cell_type": "markdown",
   "metadata": {},
   "source": [
    "We define the hybrid scheme to discretize $Y_{t}$, for any $t \\geq 0$, as\n"
   ]
  },
  {
   "cell_type": "markdown",
   "metadata": {},
   "source": [
    "$$Y_{t}=\\int_{0}^{t} g(t-s) \\sigma_{s} \\mathrm{~d} W_{s}, \\quad t \\geq 0$$"
   ]
  },
  {
   "cell_type": "markdown",
   "metadata": {},
   "source": [
    "For the fractionnal Brownian motion we take: \n",
    "\n",
    "$$ g(t-s) = (t-s)^\\alpha$$\n",
    "$$ \\sigma_s = \\sqrt{2\\alpha + 1} $$ \n",
    "$$ L_g = 1 $$"
   ]
  },
  {
   "cell_type": "markdown",
   "metadata": {},
   "source": [
    "$$\n",
    "Y_{t}^{n}:=\\check{Y}_{t}^{n}+\\hat{Y}_{t}^{n}\n",
    "$$\n"
   ]
  },
  {
   "cell_type": "markdown",
   "metadata": {},
   "source": [
    "where\n",
    "$$\n",
    "\\begin{array}{l}\n",
    "\\check{Y}_{t}^{n}:=\\sum_{k=1}^{\\min \\{\\lfloor n t\\rfloor, \\kappa\\}} L_{g}\\left(\\frac{k}{n}\\right) \\sigma_{t-\\frac{k}{n}} \\int_{t-\\frac{k}{n}}^{t-\\frac{k}{n}+\\frac{1}{n}}(t-s)^{\\alpha} \\mathrm{d} W_{s} \\\\\n",
    "\\hat{Y}_{t}^{n}:=\\sum_{k=\\kappa+1}^{\\lfloor n t\\rfloor} g\\left(\\frac{b_{k}}{n}\\right) \\sigma_{t-\\frac{k}{n}}\\left(W_{t-\\frac{k}{n}+\\frac{1}{n}}-W_{t-\\frac{k}{n}}\\right)\n",
    "\\end{array}\n",
    "$$"
   ]
  },
  {
   "cell_type": "markdown",
   "metadata": {},
   "source": [
    "##### Remark 3.1"
   ]
  },
  {
   "cell_type": "markdown",
   "metadata": {},
   "source": [
    "In the case of the $\\mathcal{T B S S}$ process $Y$, the observations $Y_{\\frac{i}{n}}^{n}, i=0,1, \\ldots,\\lfloor n T\\rfloor$, given by the hybrid scheme can be computed via"
   ]
  },
  {
   "cell_type": "markdown",
   "metadata": {},
   "source": [
    "$$\n",
    "Y_{\\frac{i}{n}}^{n}=\\sum_{k=1}^{\\min \\{i, \\kappa\\}} L_{g}\\left(\\frac{k}{n}\\right) \\sigma_{i-k}^{n} W_{i-k, k}^{n}+\\sum_{k=\\kappa+1}^{i} g\\left(\\frac{b_{k}^{*}}{n}\\right) \\sigma_{i-k}^{n} W_{i-k}^{n}\n",
    "$$\n"
   ]
  },
  {
   "cell_type": "markdown",
   "metadata": {},
   "source": [
    "\n",
    "using the random vectors $\\mathbf{W}_{i}^{n}, i=0,1, \\ldots,\\lfloor n T\\rfloor-1$, and random variables $\\sigma_{i}^{n}$, $i=0,1, \\ldots,\\lfloor n T\\rfloor-1$"
   ]
  },
  {
   "cell_type": "markdown",
   "metadata": {},
   "source": [
    "$$\n",
    "\\hat{Y}_{\\frac{i}{n}}^{n}=\\sum_{k=1}^{N_{n}} \\Gamma_{k} \\Xi_{i-k}=(\\Gamma \\star \\Xi)_{i}\n",
    "$$\n",
    "where\n",
    "\n",
    "$$\n",
    "\\begin{aligned}\n",
    "\\Gamma_{k} &:=\\left\\{\\begin{array}{ll}\n",
    "0, & k=1, \\ldots, \\kappa \\\\\n",
    "g\\left(\\frac{b_{k}^{*}}{n}\\right), & k=\\kappa+1, \\kappa+2, \\ldots, \\lfloor n T\\rfloor\n",
    "\\end{array}\\right.\\\\\n",
    "\\Xi_{k}: &=\\sigma_{k}^{n} W_{k}^{n}, & k= 0, \\ldots,\\lfloor n T\\rfloor-1\n",
    "\\end{aligned}$$"
   ]
  },
  {
   "cell_type": "markdown",
   "metadata": {},
   "source": [
    "#### Proposition 2.8"
   ]
  },
  {
   "cell_type": "markdown",
   "metadata": {},
   "source": [
    "The asymptotic MSE induced by the discretization, is minimized by the sequence $\\mathbf{b}^{*}$ given by\n"
   ]
  },
  {
   "cell_type": "markdown",
   "metadata": {},
   "source": [
    "$$\n",
    "b_{k}^{*}=\\left(\\frac{k^{\\alpha+1}-(k-1)^{\\alpha+1}}{\\alpha+1}\\right)^{1 / \\alpha}, \\quad k \\geq \\kappa+1\n",
    "$$"
   ]
  },
  {
   "cell_type": "markdown",
   "metadata": {},
   "source": [
    "We only implemented the first order Hybrid Scheme, ie, $\\kappa = 1$"
   ]
  },
  {
   "cell_type": "code",
   "execution_count": 46,
   "metadata": {},
   "outputs": [],
   "source": [
    "class rBergomi_h(object):\n",
    "    \n",
    "    def __init__(self, paths = 1, N = 1000, T = 1.00, H = 0.5): \n",
    "        \n",
    "        self.paths = paths # nb of samples \n",
    "        self.N = N        # discretization \n",
    "        self.T = T        # maturity \n",
    "        self.H = H        # Hurst parameter\n",
    "        self.alpha = self.H - 0.5  \n",
    "    \n",
    "    def sigma(self, k, j):\n",
    "        \n",
    "        if (k == 1) and (j == 1):\n",
    "            return( 1/self.N )\n",
    "        \n",
    "        if (k == 1) or ( j == 1 ):\n",
    "            if (k > j): \n",
    "                return ( ((k-1)**(self.alpha + 1) - (k - 2)**(self.alpha + 1)) / ((self.alpha + 1) * self.N**(self.alpha+1)))\n",
    "            else : \n",
    "                return ( self.sigma(j,k) )\n",
    "        \n",
    "        if ( k == j ): \n",
    "            return (((k-1)**(2*self.alpha + 1) - (k - 2)**(2*self.alpha + 1)) / ((2*self.alpha + 1) * self.N**(2*self.alpha+1)))\n",
    "        \n",
    "        if ( k > j) : \n",
    "            return ( ( ((j-1)**(self.alpha + 1)) * ((k-1)**self.alpha) * sp.hyp2f1(-self.alpha, 1, self.alpha + 2, (j-1)/(k-1) ) \n",
    "                        - ((j-2)**(self.alpha + 1)) * ((k-2)**self.alpha) * sp.hyp2f1(-self.alpha, 1, self.alpha + 2, (j-2)/(k-2) ) )\n",
    "                       * ( 1/( (self.alpha+1)*((self.N)**(2*self.alpha+1) )) ) ) \n",
    "\n",
    "        else: \n",
    "            return (self.sigma(j,k))\n",
    "        \n",
    "        \n",
    "    def dW(self):\n",
    "        \n",
    "        vect_sigma = np.vectorize(self.sigma)\n",
    "        mat = np.zeros( (2 ,2) )\n",
    "        vec = np.arange(1,3, 1)\n",
    "        mat[0,:] = vect_sigma(1,vec)\n",
    "        mat[1,:] = vect_sigma(2,vec)\n",
    "        return ( np.random.multivariate_normal([0]*(2),mat,(self.paths, int(self.T*self.N))) )\n",
    "\n",
    "\n",
    "    def W_h(self, dW):# Y TBSS \n",
    "        \n",
    "        W_h = np.zeros((dW.shape[0], int(self.T*self.N)+1) )\n",
    "        \n",
    "        Y1 = dW[:,:,1]*np.sqrt(2*self.H)\n",
    "        \n",
    "        W_h[:,1]= Y1[:,0]\n",
    "        \n",
    "        left = np.arange(1, int(self.T*self.N)+1, 1)\n",
    "        g_bk = (left[1:]**(self.alpha+1) - left[:-1]**(self.alpha+1)) / (self.alpha+1)\n",
    "\n",
    "        Gamma = np.zeros(int(self.T*self.N))\n",
    "        Xi = np.zeros((dW.shape[0], int(self.T*self.N)))\n",
    "        \n",
    "        Gamma[1: ] = g_bk/ (self.N**self.alpha)\n",
    "        Xi = np.sqrt(2*self.H)*dW[:,:,0]\n",
    "        \n",
    "        Y2 = np.zeros((dW.shape[0],int(self.T*self.N)))\n",
    "        for i in range(dW.shape[0]): \n",
    "            Y2[i,1:int(self.T*self.N)] = np.convolve(Gamma,Xi[i,:])[1:int(self.T*self.N)]     \n",
    "        \n",
    "        W_h[:, 2:] = Y1[:,1:] + Y2[:,1:int(self.T*self.N)]\n",
    "\n",
    "        return(W_h)\n",
    "    \n",
    "    \n",
    "    def V( self, V_0, nu, W_h): #Variance rBergomi\n",
    "        var = (np.arange(0, int(self.T*self.N)+1, 1)/(self.N) )**(2*self.H)\n",
    "        Vt = V_0*np.exp(nu*W_h-(nu**2)*var*0.5 )\n",
    "\n",
    "        return (Vt )\n",
    "      \n",
    "    def S(self, S0, rho, dW, V): # Euler Scheme\n",
    "        dW2 = np.random.randn(dW.shape[0], int(self.T*self.N))*(1/np.sqrt(self.N))*(np.sqrt(1-rho**2))+dW[:,:,0]*rho\n",
    "        S_bar_ = np.c_[ S0 + np.zeros(dW.shape[0]), np.ones( (dW.shape[0],int(self.N*self.T) ) )]\n",
    "        S_bar_[:,1:] = np.cumsum(np.sqrt(V[:,:-1])*dW2 - V[:,:-1]*(1/(2*self.N)), axis=1)\n",
    "        S_bar_[:,1:] = S0*np.exp(S_bar_[:,1:])      \n",
    "        return( S_bar_ )\n",
    "                                \n",
    "    def S1 (self, S0, rho, dW, V): # for turbocharging monte carlo pricing\n",
    "        S_bar_ = np.c_[ S0 + np.zeros(dW.shape[0]), np.ones( (dW.shape[0],int(self.N*self.T) ) )]\n",
    "        S_bar_[:, 1:] = np.cumsum( np.sqrt(V[:,:-1])*dW[:,:,0]*rho-(rho**2)*V[:,:-1]*(1/(2*self.N)), axis=1 )\n",
    "        S_bar_[:, 1:] = S0*np.exp(S_bar_[:, 1:])\n",
    "        return (S_bar_ ) \n",
    "        "
   ]
  }
 ],
 "metadata": {
  "kernelspec": {
   "display_name": "Python 3",
   "language": "python",
   "name": "python3"
  },
  "language_info": {
   "codemirror_mode": {
    "name": "ipython",
    "version": 3
   },
   "file_extension": ".py",
   "mimetype": "text/x-python",
   "name": "python",
   "nbconvert_exporter": "python",
   "pygments_lexer": "ipython3",
   "version": "3.8.3"
  }
 },
 "nbformat": 4,
 "nbformat_minor": 4
}
