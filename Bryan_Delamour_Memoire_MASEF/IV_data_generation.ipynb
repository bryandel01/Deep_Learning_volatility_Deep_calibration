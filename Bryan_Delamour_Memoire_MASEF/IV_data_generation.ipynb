{
 "cells": [
  {
   "cell_type": "markdown",
   "metadata": {},
   "source": [
    "<img src=\"Dau.png\">"
   ]
  },
  {
   "cell_type": "markdown",
   "metadata": {},
   "source": [
    "#### MASEF, University Paris-Dauphine 2021:   Bryan Delamour "
   ]
  },
  {
   "cell_type": "markdown",
   "metadata": {},
   "source": [
    "## Generation of implied volatility surfaces from prices invertion"
   ]
  },
  {
   "cell_type": "markdown",
   "metadata": {},
   "source": [
    "#### Reference : Deep calibration of rough stochastic volatility models\n",
    "C. Bayer, B. Stemper"
   ]
  },
  {
   "cell_type": "code",
   "execution_count": 1,
   "metadata": {},
   "outputs": [],
   "source": [
    "import numpy as np\n",
    "from cmath import * \n",
    "import pickle\n",
    "import py_vollib\n",
    "from py_vollib.ref_python.black_scholes.implied_volatility import implied_volatility "
   ]
  },
  {
   "cell_type": "markdown",
   "metadata": {},
   "source": [
    "## Parameters"
   ]
  },
  {
   "cell_type": "markdown",
   "metadata": {},
   "source": [
    "$\n",
    "\\begin{array}{l}\n",
    "\\text { Strikes: }\\{0.5,0.6,0.7,0.8,0.9,1,1.1,1.2,1.3,1.4,1.5\\}\\\\\n",
    "\\text { Maturities: }\\{0.1,0.3,0.6,0.9,1.2,1.5,1.8,2.0\\}\n",
    "\\end{array}\n",
    "$"
   ]
  },
  {
   "cell_type": "code",
   "execution_count": 2,
   "metadata": {},
   "outputs": [],
   "source": [
    "nb_samples = 4*10**4\n",
    "strikes = np.arange(0.5,1.6,0.1)\n",
    "maturities = np.array([0.1,0.3,0.6,0.9,1.2,1.5,1.8,2])\n",
    "N_disc = 100 \n",
    "T_ind = N_disc*maturities\n",
    "T_ind=T_ind.astype(int)\n",
    "M = 6*10**4\n",
    "\n",
    "S0=1"
   ]
  },
  {
   "cell_type": "markdown",
   "metadata": {},
   "source": [
    "## Loading  Black Scholes prices and rough Bergomi parameters"
   ]
  },
  {
   "cell_type": "markdown",
   "metadata": {},
   "source": [
    "$\n",
    "\\text { Training set of size } 34.000 \\text { and testing set of size } 6.000\\\\\n",
    "\\text { Rough Bergomi sample: }\\left(\\xi_{0}, \\nu, \\rho, H\\right) \\in \\mathcal{U}[0.01,0.16] \\times \\mathcal{U}[0.5,4.0] \\times \\mathcal{U}[-0.95,-0.1] \\times \\mathcal{U}[0.025,0.5]\\\\\n",
    "$\n",
    "\n"
   ]
  },
  {
   "cell_type": "code",
   "execution_count": 3,
   "metadata": {},
   "outputs": [],
   "source": [
    "# Loading data \n",
    "\n",
    "model_parameters_training_File = \"model_parameters_training_data.pkl\"\n",
    "\n",
    "with open(model_parameters_training_File, 'rb') as file:  \n",
    "    model_parameters = pickle.load(file)\n",
    "\n",
    "XI = model_parameters[:,0]\n",
    "NU = model_parameters[:,1]\n",
    "RHO = model_parameters[:,2]\n",
    "H = model_parameters[:,3]\n",
    "\n",
    "BS_prices_training_File = \"BS_prices_training_data.pkl\"\n",
    "\n",
    "with open(BS_prices_training_File, 'rb') as file:  \n",
    "    BS_prices = pickle.load(file)"
   ]
  },
  {
   "cell_type": "markdown",
   "metadata": {},
   "source": [
    "## Implied volatility"
   ]
  },
  {
   "cell_type": "markdown",
   "metadata": {},
   "source": [
    "$\\operatorname{BS}(M, T, \\sigma)$ denote the Black-Scholes price of a European Call with moneyness $M$, time to maturity $T$ and assumed constant volatility $\\sigma$ of the underlying and let $Q(M, T)$ be the corresponding market price. The BS implied volatility $\\sigma_{\\mathrm{iv}}(M, T)$ corresponding to $Q(M, T)$ satisfies\n",
    "\n",
    "$$\n",
    "Q(M, T)-\\mathrm{BS}\\left(M, T, \\sigma_{\\mathrm{iv}}(M, T)\\right) \\stackrel{!}{=} 0\n",
    "$$\n",
    "\n",
    "and the map $(M, T) \\mapsto \\sigma_{\\mathrm{iv}}(M, T)$ is called a volatility surface."
   ]
  },
  {
   "cell_type": "markdown",
   "metadata": {},
   "source": [
    "Black-Scholes IVs are inverted from option prices using a publicly available implementation of the implied volatility solver by Jäckel (2015)."
   ]
  },
  {
   "cell_type": "code",
   "execution_count": 5,
   "metadata": {},
   "outputs": [],
   "source": [
    "def jackel_iv(P,S0,K,T):\n",
    "    return (implied_volatility(P, S0, K, T, 0, 'c'))\n",
    "pb = 0 "
   ]
  },
  {
   "cell_type": "code",
   "execution_count": 6,
   "metadata": {
    "scrolled": true
   },
   "outputs": [
    {
     "name": "stdout",
     "output_type": "stream",
     "text": [
      "0\n",
      "1000\n",
      "2000\n",
      "3000\n",
      "4000\n",
      "5000\n",
      "6000\n",
      "7000\n",
      "8000\n",
      "9000\n",
      "10000\n",
      "11000\n",
      "12000\n",
      "13000\n",
      "14000\n",
      "15000\n",
      "16000\n",
      "17000\n",
      "18000\n",
      "19000\n",
      "20000\n",
      "21000\n",
      "22000\n",
      "23000\n",
      "24000\n",
      "25000\n",
      "26000\n",
      "27000\n",
      "28000\n",
      "29000\n",
      "30000\n",
      "31000\n",
      "32000\n",
      "33000\n",
      "34000\n",
      "35000\n",
      "36000\n",
      "37000\n",
      "38000\n",
      "39000\n"
     ]
    }
   ],
   "source": [
    "j_iv = np.zeros(BS_prices.shape)\n",
    "\n",
    "for i in range(nb_samples):\n",
    "    if (i%1000 == 0):\n",
    "        print(i)\n",
    "    for k in range(len(strikes)):\n",
    "        for t in range(len(maturities)):\n",
    "            try :\n",
    "                j_iv[i,k,t] = jackel_iv( BS_prices[i,k,t], S0, strikes[k], maturities[t])\n",
    "            except :\n",
    "                pb +=1\n",
    "                try:\n",
    "                    j_iv[i,k,t] = jackel_iv( BS_prices[i,k-1,t], S0, strikes[k], maturities[t])\n",
    "                    BS_prices[i,k,t] =  BS_prices[i,k-1,t]\n",
    "                except:\n",
    "                    j_iv[i,k,t] = jackel_iv( BS_prices[i-1,k,t], S0, strikes[k], maturities[t])\n",
    "                    BS_prices[i,k,t] =  BS_prices[i-1,k,t]\n",
    "                    \n",
    "            "
   ]
  },
  {
   "cell_type": "markdown",
   "metadata": {},
   "source": [
    "## Data checking and correction"
   ]
  },
  {
   "cell_type": "code",
   "execution_count": 8,
   "metadata": {},
   "outputs": [
    {
     "name": "stdout",
     "output_type": "stream",
     "text": [
      "negative 0\n",
      "too high 158\n",
      "too small 1505\n"
     ]
    }
   ],
   "source": [
    "# Data checking and correction \n",
    "\n",
    "mean_iv = np.mean(j_iv)\n",
    "negative = np.sum((j_iv<0)*1)\n",
    "too_high = np.sum((j_iv>1)*1)\n",
    "too_small = np.sum((j_iv<10**-6))\n",
    "\n",
    "print(\"negative\", negative)\n",
    "print(\"too high\", too_high)\n",
    "print(\"too small\", too_small)\n",
    "\n",
    "\n",
    "ax_1 = np.where(j_iv>1)[0]\n",
    "ax_2 = np.where(j_iv>1)[1]\n",
    "ax_3 = np.where(j_iv>1)[2]\n",
    "n = len(np.where(j_iv>1)[0])\n",
    "\n"
   ]
  },
  {
   "cell_type": "code",
   "execution_count": 9,
   "metadata": {},
   "outputs": [],
   "source": [
    "## too high correction with mean over the respective (k,t)\n",
    "\n",
    "ax_1 = np.where(j_iv>1)[0]\n",
    "ax_2 = np.where(j_iv>1)[1]\n",
    "ax_3 = np.where(j_iv>1)[2]\n",
    "n = len(np.where(j_iv>1)[0])\n",
    "\n",
    "for i in range(n):\n",
    "    j_iv[ax_1[i],ax_2[i],ax_3[i]] = np.mean(j_iv[:,ax_2[i],ax_3[i]])\n",
    "    \n",
    "ax_1 = np.where(j_iv<10**-6)[0]\n",
    "ax_2 = np.where(j_iv<10**-6)[1]\n",
    "ax_3 = np.where(j_iv<10**-6)[2]\n",
    "n = len(np.where(j_iv<10**-6)[0])\n",
    "\n",
    "# same with too small values\n",
    "for i in range(n):\n",
    "    j_iv[ax_1[i],ax_2[i],ax_3[i]] = np.mean(j_iv[:,ax_2[i],ax_3[i]])"
   ]
  },
  {
   "cell_type": "code",
   "execution_count": 10,
   "metadata": {},
   "outputs": [
    {
     "name": "stdout",
     "output_type": "stream",
     "text": [
      "0\n",
      "0\n"
     ]
    }
   ],
   "source": [
    "## Double check\n",
    "\n",
    "too_high = np.sum((j_iv>1)*1)\n",
    "too_small = np.sum((j_iv<10**-6))\n",
    "\n",
    "print(too_high)\n",
    "print(too_small)"
   ]
  },
  {
   "cell_type": "markdown",
   "metadata": {},
   "source": [
    "## Saving implied volatility surfaces"
   ]
  },
  {
   "cell_type": "code",
   "execution_count": 11,
   "metadata": {},
   "outputs": [],
   "source": [
    "## Saving implied volatility surfaces\n",
    "\n",
    "iv_training_File = \"iv_training_data.pkl\"  \n",
    "\n",
    "with open(iv_training_File, 'wb') as file:\n",
    "    pickle.dump(j_iv, file)"
   ]
  }
 ],
 "metadata": {
  "kernelspec": {
   "display_name": "Python 3",
   "language": "python",
   "name": "python3"
  },
  "language_info": {
   "codemirror_mode": {
    "name": "ipython",
    "version": 3
   },
   "file_extension": ".py",
   "mimetype": "text/x-python",
   "name": "python",
   "nbconvert_exporter": "python",
   "pygments_lexer": "ipython3",
   "version": "3.8.3"
  }
 },
 "nbformat": 4,
 "nbformat_minor": 4
}
